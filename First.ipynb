{
 "cells": [
  {
   "cell_type": "markdown",
   "metadata": {},
   "source": [
    "# polyfit.py"
   ]
  },
  {
   "cell_type": "code",
   "execution_count": 1,
   "metadata": {},
   "outputs": [],
   "source": [
    "import numpy as np\n",
    "import matplotlib.pyplot as plt"
   ]
  },
  {
   "cell_type": "code",
   "execution_count": 20,
   "metadata": {},
   "outputs": [],
   "source": [
    "#Return fitted model parameters to the dataset at datapath for each choice in degrees.\n",
    "#Input: datapath as a string specifying a .txt file, degrees as a list of positive integers.\n",
    "#Output: paramFits, a list with the same length as degrees, where paramFits[i] is the list of\n",
    "#coefficients when fitting a polynomial of d = degrees[i].\n",
    "def main(datapath, degrees):\n",
    "    paramFits = []\n",
    "\n",
    "    #fill in\n",
    "    #read the input file, assuming it has two columns, where each row is of the form [x y] as\n",
    "    #in poly.txt.\n",
    "    #iterate through each n in degrees, calling the feature_matrix and least_squares functions to solve\n",
    "    #for the model parameters in each case. Append the result to paramFits each time.\n",
    "\n",
    "    with open(datapath, 'r') as file:\n",
    "        data = file.readlines()\n",
    "        x = [float(j[0]) for j in (i.split() for i in data)]\n",
    "        y = [float(j[1]) for j in (i.split() for i in data)]\n",
    "    \n",
    "    for d in degrees:\n",
    "        ftr_mat = feature_matrix(x, d)\n",
    "        b = least_squares(ftr_mat, y)\n",
    "        paramFits.append(b)\n",
    "    return paramFits"
   ]
  },
  {
   "cell_type": "code",
   "execution_count": 12,
   "metadata": {},
   "outputs": [],
   "source": [
    "#Return the feature matrix for fitting a polynomial of degree d based on the explanatory variable\n",
    "#samples in x.\n",
    "#Input: x as a list of the independent variable samples, and d as an integer.\n",
    "#Output: X, a list of features for each sample, where X[i][j] corresponds to the jth coefficient\n",
    "#for the ith sample. Viewed as a matrix, X should have dimension #samples by d+1.\n",
    "def feature_matrix(x, d):\n",
    "\n",
    "    #fill in\n",
    "    #There are several ways to write this function. The most efficient would be a nested list comprehension\n",
    "    #which for each sample in x calculates x^d, x^(d-1), ..., x^0.\n",
    "    X = [[n ** d for d in range(d, -1, -1)] for n in x]\n",
    "    return X"
   ]
  },
  {
   "cell_type": "code",
   "execution_count": 16,
   "metadata": {},
   "outputs": [],
   "source": [
    "#Return the least squares solution based on the feature matrix X and corresponding target variable samples in y.\n",
    "#Input: X as a list of features for each sample, and y as a list of target variable samples.\n",
    "#Output: B, a list of the fitted model parameters based on the least squares solution.\n",
    "def least_squares(X, y):\n",
    "    X = np.array(X)\n",
    "    y = np.array(y)\n",
    "\n",
    "    #fill in\n",
    "    #Use the matrix algebra functions in numpy to solve the least squares equations. This can be done in just one line.\n",
    "    least_sqrs = np.linalg.inv(X.T @ X) @ X.T @ y\n",
    "    B = least_sqrs.tolist()\n",
    "    return B"
   ]
  },
  {
   "cell_type": "code",
   "execution_count": 42,
   "metadata": {},
   "outputs": [],
   "source": [
    "datapath = 'poly.txt'\n",
    "degrees = [1,2,3,4,5]"
   ]
  },
  {
   "cell_type": "code",
   "execution_count": 43,
   "metadata": {},
   "outputs": [
    {
     "name": "stdout",
     "output_type": "stream",
     "text": [
      "[[52.158053801747215, -189.86610574097074], [7.001583333198915, 9.303864260428877, -239.3340329835961], [0.8201380988526162, 0.26176712315847694, -0.010327670472122463, -175.27713200891657], [0.005987963794383017, 0.7552180459273519, 0.23455985383724576, 1.1763636032250524, -175.88028826172473], [0.0008531198983952847, -0.004698036593498531, 0.7528113266207407, 0.5260849950247835, 0.9659162450400247, -176.83736889212605]]\n"
     ]
    }
   ],
   "source": [
    "paramFits = main(datapath, degrees)\n",
    "print(paramFits)"
   ]
  },
  {
   "cell_type": "code",
   "execution_count": 74,
   "metadata": {},
   "outputs": [
    {
     "data": {
      "image/png": "[encoded data removed]",
      "text/plain": [
       "<Figure size 432x288 with 1 Axes>"
      ]
     },
     "metadata": {
      "needs_background": "light"
     },
     "output_type": "display_data"
    }
   ],
   "source": [
    "# Code for Problem 1: Part 3 - Graphing Degree Polynomials\n",
    "with open(datapath, 'r') as file:\n",
    "    data = file.readlines()\n",
    "    x = [float(j[0]) for j in (i.split() for i in data)]\n",
    "    y = [float(j[1]) for j in (i.split() for i in data)]\n",
    "x, y = zip(*sorted(zip(x, y)))\n",
    "x = np.array(x)\n",
    "# Plotting Original Data\n",
    "plt.scatter(x, y, color='black', label='data')\n",
    "\n",
    "# Plotting Polynomial d = 1\n",
    "coeffList_d_1 = paramFits[0]\n",
    "y = coeffList_d_1[0]*x + coeffList_d_1[1]\n",
    "plt.plot(x,y, color='red', label='d = 1')\n",
    "\n",
    "# Plotting Polynomial d = 2\n",
    "coeffList_d_2 = paramFits[1]\n",
    "y = coeffList_d_2[0]*(x**2) + coeffList_d_2[1]*x + coeffList_d_2[2]\n",
    "plt.plot(x,y, color='orange', label='d = 2')\n",
    "\n",
    "# Plotting Polynomial d = 3\n",
    "coeffList_d_3 = paramFits[2]\n",
    "y = coeffList_d_3[0]*(x**3) + coeffList_d_3[1]*(x**2) + coeffList_d_3[2]*x + coeffList_d_3[3]\n",
    "plt.plot(x,y, color='blue', label='d = 3')\n",
    "\n",
    "# Plotting Polynomial d = 4\n",
    "coeffList_d_4 = paramFits[3]\n",
    "y = coeffList_d_4[0]*(x**4) + coeffList_d_4[1]*(x**3) + coeffList_d_4[2]*(x**2) + coeffList_d_4[3]*x + coeffList_d_4[4]\n",
    "plt.plot(x,y, color='green', label='d = 4')\n",
    "\n",
    "# Plotting Polynomial d = 5\n",
    "coeffList_d_5 = paramFits[4]\n",
    "y = coeffList_d_5[0]*(x**5) + coeffList_d_5[1]*(x**4) + coeffList_d_5[2]*(x**3) + coeffList_d_5[3]*(x**2) + coeffList_d_5[4]*x + coeffList_d_5[5]\n",
    "plt.plot(x,y, color='purple', label='d = 5')\n",
    "\n",
    "# Labeling Data\n",
    "plt.xlabel('x', fontsize=16)\n",
    "plt.ylabel('y', fontsize=16)\n",
    "plt.legend(fontsize=10, loc='upper left')\n",
    "plt.show()"
   ]
  },
  {
   "cell_type": "markdown",
   "metadata": {},
   "source": [
    "# regularize-cv.py"
   ]
  },
  {
   "cell_type": "code",
   "execution_count": 79,
   "metadata": {},
   "outputs": [],
   "source": [
    "import numpy as np\n",
    "import pandas as pd\n",
    "from sklearn.linear_model import Ridge\n",
    "from sklearn.model_selection import train_test_split\n",
    "from sklearn import linear_model\n",
    "import matplotlib.pyplot as plt"
   ]
  },
  {
   "cell_type": "code",
   "execution_count": 80,
   "metadata": {},
   "outputs": [],
   "source": [
    "def main():\n",
    "    #Importing dataset\n",
    "    diamonds = pd.read_csv('diamonds.csv')\n",
    "\n",
    "    #Feature and target matrices\n",
    "    X = diamonds[['carat', 'depth', 'table', 'x', 'y', 'z', 'clarity', 'cut', 'color']]\n",
    "    y = diamonds[['price']]\n",
    "\n",
    "    #Training and testing split, with 25% of the data reserved as the test set\n",
    "    X = X.to_numpy()\n",
    "    y = y.to_numpy()\n",
    "    [X_train, X_test, y_train, y_test] = train_test_split(X, y, test_size=0.25, random_state=101)\n",
    "\n",
    "    #Normalizing training and testing data\n",
    "    [X_train, trn_mean, trn_std] = normalize_train(X_train)\n",
    "    X_test = normalize_test(X_test, trn_mean, trn_std)\n",
    "\n",
    "    #Define the range of lambda to test\n",
    "    lmbda = np.logspace(-1, 2, num=101) # Lambda Values Needed for Submission\n",
    "\n",
    "    MODEL = []\n",
    "    MSE = []\n",
    "    for l in lmbda:\n",
    "        #Train the regression model using a regularization parameter of l\n",
    "        model = train_model(X_train,y_train,l)\n",
    "\n",
    "        #Evaluate the MSE on the test set\n",
    "        mse = error(X_test,y_test,model)\n",
    "\n",
    "        #Store the model and mse in lists for further processing\n",
    "        MODEL.append(model)\n",
    "        MSE.append(mse)\n",
    "\n",
    "    #Plot the MSE as a function of lmbda\n",
    "    plt.plot(lmbda, MSE)\n",
    "    plt.xlabel('Lambda')\n",
    "    plt.ylabel('MSE')\n",
    "    plt.title('MSE as a Function of lambda')\n",
    "    plt.grid(True)\n",
    "    plt.show()\n",
    "\n",
    "    #Find best value of lmbda in terms of MSE\n",
    "    ind = MSE.index(min(MSE))\n",
    "    [lmda_best,MSE_best,model_best] = [lmbda[ind],MSE[ind],MODEL[ind]]\n",
    "\n",
    "    print('Best lambda tested is ' + str(lmda_best) + ', which yields an MSE of ' + str(MSE_best))\n",
    "\n",
    "    return model_best"
   ]
  },
  {
   "cell_type": "code",
   "execution_count": 81,
   "metadata": {},
   "outputs": [],
   "source": [
    "#Function that normalizes features in training set to zero mean and unit variance.\n",
    "#Input: training data X_train\n",
    "#Output: the normalized version of the feature matrix: X, the mean of each column in\n",
    "#training set: trn_mean, the std dev of each column in training set: trn_std.\n",
    "def normalize_train(X_train):\n",
    "\n",
    "    mean = np.mean(X_train, axis = 0)\n",
    "    std = np.std(X_train, axis = 0)\n",
    "    \n",
    "    X = (X_train - mean) /std\n",
    "\n",
    "    return X, mean, std"
   ]
  },
  {
   "cell_type": "code",
   "execution_count": 82,
   "metadata": {},
   "outputs": [],
   "source": [
    "#Function that normalizes testing set according to mean and std of training set\n",
    "#Input: testing data: X_test, mean of each column in training set: trn_mean, standard deviation of each\n",
    "#column in training set: trn_std\n",
    "#Output: X, the normalized version of the feature matrix, X_test.\n",
    "def normalize_test(X_test, trn_mean, trn_std):\n",
    "\n",
    "    X = (X_test - trn_mean) /trn_std\n",
    "\n",
    "    return X"
   ]
  },
  {
   "cell_type": "code",
   "execution_count": 83,
   "metadata": {},
   "outputs": [],
   "source": [
    "#Function that trains a ridge regression model on the input dataset with lambda=l.\n",
    "#Input: Feature matrix X, target variable vector y, regularization parameter l.\n",
    "#Output: model, a numpy object containing the trained model.\n",
    "def train_model(X,y,l):\n",
    "\n",
    "    model = linear_model.Ridge(alpha=l, fit_intercept=True)\n",
    "    model.fit(X, y)\n",
    "\n",
    "    return model"
   ]
  },
  {
   "cell_type": "code",
   "execution_count": 84,
   "metadata": {},
   "outputs": [],
   "source": [
    "#Function that calculates the mean squared error of the model on the input dataset.\n",
    "#Input: Feature matrix X, target variable vector y, numpy model object\n",
    "#Output: mse, the mean squared error\n",
    "def error(X,y,model):\n",
    "    \n",
    "    y = np.array(y)\n",
    "    y_hat = model.predict(X)\n",
    "    mse = np.mean((y - y_hat) ** 2)\n",
    "    \n",
    "    return mse"
   ]
  },
  {
   "cell_type": "code",
   "execution_count": 85,
   "metadata": {},
   "outputs": [
    {
     "data": {
      "image/png": "[encoded data removed]",
      "text/plain": [
       "<Figure size 432x288 with 1 Axes>"
      ]
     },
     "metadata": {
      "needs_background": "light"
     },
     "output_type": "display_data"
    },
    {
     "name": "stdout",
     "output_type": "stream",
     "text": [
      "Best lambda tested is 13.489628825916533, which yields an MSE of 1811976.570268438\n",
      "[[ 5115.65136992  -201.49769618  -207.15474973 -1338.29096939\n",
      "    219.18597862   -66.36405012   500.9098275     74.30622797\n",
      "   -459.07248485]]\n",
      "[3928.07687554]\n"
     ]
    }
   ],
   "source": [
    "model_best = main()\n",
    "print(model_best.coef_)\n",
    "print(model_best.intercept_)\n",
    "    "
   ]
  },
  {
   "cell_type": "code",
   "execution_count": 108,
   "metadata": {},
   "outputs": [
    {
     "data": {
      "image/png": "[encoded data removed]",
      "text/plain": [
       "<Figure size 432x288 with 1 Axes>"
      ]
     },
     "metadata": {
      "needs_background": "light"
     },
     "output_type": "display_data"
    },
    {
     "name": "stdout",
     "output_type": "stream",
     "text": [
      "Best lambda tested is 13.489628825916533, which yields an MSE of 1811976.570268438\n",
      "[[ 5115.65136992  -201.49769618  -207.15474973 -1338.29096939\n",
      "    219.18597862   -66.36405012   500.9098275     74.30622797\n",
      "   -459.07248485]]\n",
      "[3928.07687554]\n"
     ]
    }
   ],
   "source": [
    "import numpy as np\n",
    "import pandas as pd\n",
    "from sklearn.linear_model import Ridge\n",
    "from sklearn.model_selection import train_test_split\n",
    "from sklearn import linear_model\n",
    "import matplotlib.pyplot as plt\n",
    "\n",
    "\n",
    "def main():\n",
    "    #Importing dataset\n",
    "    diamonds = pd.read_csv('diamonds.csv')\n",
    "\n",
    "    #Feature and target matrices\n",
    "    X = diamonds[['carat', 'depth', 'table', 'x', 'y', 'z', 'clarity', 'cut', 'color']]\n",
    "    y = diamonds[['price']]\n",
    "\n",
    "    #Training and testing split, with 25% of the data reserved as the test set\n",
    "    X = X.to_numpy()\n",
    "    y = y.to_numpy()\n",
    "    [X_train, X_test, y_train, y_test] = train_test_split(X, y, test_size=0.25, random_state=101)\n",
    "\n",
    "    #Normalizing training and testing data\n",
    "    [X_train, trn_mean, trn_std] = normalize_train(X_train)\n",
    "    X_test = normalize_test(X_test, trn_mean, trn_std)\n",
    "\n",
    "    #Define the range of lambda to test\n",
    "    lmbda = np.logspace(-1, 2, num=101) # Lambda Values Needed for Submission\n",
    "    #lmbda=[1,100]\n",
    "    MODEL = []\n",
    "    MSE = []\n",
    "    for l in lmbda:\n",
    "        #Train the regression model using a regularization parameter of l\n",
    "        model = train_model(X_train,y_train,l)\n",
    "\n",
    "        #Evaluate the MSE on the test set\n",
    "        mse = error(X_test,y_test,model)\n",
    "\n",
    "        #Store the model and mse in lists for further processing\n",
    "        MODEL.append(model)\n",
    "        MSE.append(mse)\n",
    "\n",
    "    #Plot the MSE as a function of lmbda\n",
    "    plt.plot(lmbda, MSE)\n",
    "    plt.xlabel('Lambda')\n",
    "    plt.ylabel('MSE')\n",
    "    plt.title('MSE as a Function of Lambda')\n",
    "    plt.show()\n",
    "\n",
    "    #Find best value of lmbda in terms of MSE\n",
    "    ind = MSE.index(min(MSE))\n",
    "    [lmda_best,MSE_best,model_best] = [lmbda[ind],MSE[ind],MODEL[ind]]\n",
    "\n",
    "    print('Best lambda tested is ' + str(lmda_best) + ', which yields an MSE of ' + str(MSE_best))\n",
    "\n",
    "    return model_best\n",
    "\n",
    "\n",
    "#Function that normalizes features in training set to zero mean and unit variance.\n",
    "#Input: training data X_train\n",
    "#Output: the normalized version of the feature matrix: X, the mean of each column in\n",
    "#training set: trn_mean, the std dev of each column in training set: trn_std.\n",
    "def normalize_train(X_train):\n",
    "\n",
    "    mean = np.mean(X_train, axis = 0)\n",
    "    std = np.std(X_train, axis = 0)\n",
    "    \n",
    "    X = (X_train - mean) /std\n",
    "\n",
    "    return X, mean, std\n",
    "\n",
    "\n",
    "#Function that normalizes testing set according to mean and std of training set\n",
    "#Input: testing data: X_test, mean of each column in training set: trn_mean, standard deviation of each\n",
    "#column in training set: trn_std\n",
    "#Output: X, the normalized version of the feature matrix, X_test.\n",
    "def normalize_test(X_test, trn_mean, trn_std):\n",
    "\n",
    "    X = (X_test- trn_mean)/ trn_std\n",
    "    \n",
    "    return X\n",
    "\n",
    "\n",
    "#Function that trains a ridge regression model on the input dataset with lambda=l.\n",
    "#Input: Feature matrix X, target variable vector y, regularization parameter l.\n",
    "#Output: model, a numpy object containing the trained model.\n",
    "def train_model(X,y,l):\n",
    "\n",
    "    model = linear_model.Ridge(alpha=l, fit_intercept=True)\n",
    "    model.fit(X, y)\n",
    "\n",
    "    return model\n",
    "\n",
    "\n",
    "#Function that calculates the mean squared error of the model on the input dataset.\n",
    "#Input: Feature matrix X, target variable vector y, numpy model object\n",
    "#Output: mse, the mean squared error\n",
    "def error(X,y,model):\n",
    "\n",
    "    y = np.array(y)\n",
    "    y_hat = model.predict(X)\n",
    "    mse = np.mean((y - y_hat) ** 2)\n",
    "\n",
    "    return mse\n",
    "\n",
    "if __name__ == '__main__':\n",
    "    model_best = main()\n",
    "    print(model_best.coef_)\n",
    "    print(model_best.intercept_)\n",
    "    \n"
   ]
  },
  {
   "cell_type": "code",
   "execution_count": 109,
   "metadata": {},
   "outputs": [
    {
     "data": {
      "text/plain": [
       "array([4171.04964293])"
      ]
     },
     "execution_count": 109,
     "metadata": {},
     "output_type": "execute_result"
    }
   ],
   "source": [
    "np.dot(model_best.coef_, np.array([0.25,3,3,5, 60,55,4,3,2]))"
   ]
  }
 ],
 "metadata": {
  "kernelspec": {
   "display_name": "Python 3",
   "language": "python",
   "name": "python3"
  },
  "language_info": {
   "codemirror_mode": {
    "name": "ipython",
    "version": 3
   },
   "file_extension": ".py",
   "mimetype": "text/x-python",
   "name": "python",
   "nbconvert_exporter": "python",
   "pygments_lexer": "ipython3",
   "version": "3.7.6"
  }
 },
 "nbformat": 4,
 "nbformat_minor": 4
}
